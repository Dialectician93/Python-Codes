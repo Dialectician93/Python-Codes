{
 "cells": [
  {
   "cell_type": "code",
   "execution_count": 1,
   "metadata": {},
   "outputs": [
    {
     "name": "stdout",
     "output_type": "stream",
     "text": [
      "Little lower.\n",
      "Little lower.\n",
      "Little lower.\n",
      "Little lower.\n",
      "Little lower.\n",
      "Little lower.\n",
      "Correct!!!!\n"
     ]
    }
   ],
   "source": [
    "while True :\n",
    "    b = int(input(\"Write a number 2 digit:\"))\n",
    "    if b<22 :\n",
    "        print(\"Little higher.\")\n",
    "    elif b>22 :\n",
    "        print(\"Little lower.\")\n",
    "    else:\n",
    "        print(\"Correct!!!!\")\n",
    "        break"
   ]
  }
 ],
 "metadata": {
  "kernelspec": {
   "display_name": "Python 3.10.2 64-bit",
   "language": "python",
   "name": "python3"
  },
  "language_info": {
   "codemirror_mode": {
    "name": "ipython",
    "version": 3
   },
   "file_extension": ".py",
   "mimetype": "text/x-python",
   "name": "python",
   "nbconvert_exporter": "python",
   "pygments_lexer": "ipython3",
   "version": "3.10.2"
  },
  "orig_nbformat": 4,
  "vscode": {
   "interpreter": {
    "hash": "67e0cbc25fa4f5baaacba1240f401bc655b640f8e15cfc935dfee2e63491bdf4"
   }
  }
 },
 "nbformat": 4,
 "nbformat_minor": 2
}
