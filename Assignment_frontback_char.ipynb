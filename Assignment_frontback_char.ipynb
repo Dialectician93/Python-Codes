{
 "cells": [
  {
   "cell_type": "code",
   "execution_count": null,
   "metadata": {},
   "outputs": [],
   "source": [
    "def front_back(word):\n",
    "    sayım = len(word)\n",
    "    if sayım == 1 :\n",
    "        print(word)\n",
    "    else:\n",
    "        print(word[-1]+word[1:-1]+word[0])\n",
    "# front_back(\"clarusway\")"
   ]
  }
 ],
 "metadata": {
  "language_info": {
   "name": "python"
  },
  "orig_nbformat": 4
 },
 "nbformat": 4,
 "nbformat_minor": 2
}
