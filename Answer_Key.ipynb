{
 "cells": [
  {
   "cell_type": "code",
   "execution_count": 1,
   "metadata": {},
   "outputs": [
    {
     "name": "stdout",
     "output_type": "stream",
     "text": [
      "1- True\n",
      "2- True\n",
      "3- True\n",
      "4- True\n",
      "5- True\n",
      "['a', 'c', 'e', 'b', 'a']\n",
      "['a', 'c', 'e', 'b', 'a']\n"
     ]
    }
   ],
   "source": [
    "öğr = list(input())\n",
    "cevap_anahtarı=[\"a\",\"c\",\"e\",\"b\",\"a\"]\n",
    "if cevap_anahtarı[0]==öğr[0]:\n",
    "    print(\"1-\",True)\n",
    "else:\n",
    "    print(\"1-\",False)\n",
    "if cevap_anahtarı[1]==öğr[1]:\n",
    "    print(\"2-\",True)\n",
    "else:\n",
    "    print(\"2-\",False)\n",
    "if cevap_anahtarı[2]==öğr[2]:\n",
    "    print(\"3-\",True)\n",
    "else:\n",
    "    print(\"3-\",False)\n",
    "if cevap_anahtarı[3]==öğr[3]:\n",
    "    print(\"4-\",True)\n",
    "else:\n",
    "    print(\"4-\",False)\n",
    "if cevap_anahtarı[4]==öğr[4]:\n",
    "    print(\"5-\",True)\n",
    "else:\n",
    "    print(\"5-\",False)\n",
    "print(cevap_anahtarı)\n",
    "print(öğr)"
   ]
  }
 ],
 "metadata": {
  "kernelspec": {
   "display_name": "Python 3.10.2 64-bit",
   "language": "python",
   "name": "python3"
  },
  "language_info": {
   "codemirror_mode": {
    "name": "ipython",
    "version": 3
   },
   "file_extension": ".py",
   "mimetype": "text/x-python",
   "name": "python",
   "nbconvert_exporter": "python",
   "pygments_lexer": "ipython3",
   "version": "3.10.2"
  },
  "orig_nbformat": 4,
  "vscode": {
   "interpreter": {
    "hash": "67e0cbc25fa4f5baaacba1240f401bc655b640f8e15cfc935dfee2e63491bdf4"
   }
  }
 },
 "nbformat": 4,
 "nbformat_minor": 2
}
