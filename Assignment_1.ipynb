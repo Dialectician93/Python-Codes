{
 "cells": [
  {
   "cell_type": "code",
   "execution_count": null,
   "metadata": {},
   "outputs": [],
   "source": [
    "def sum_double(x, y):                                   #ASSİGNMENT#\n",
    "    if x == y :\n",
    "        return((x+y)*2)\n",
    "    else:\n",
    "        return(x+y)\n",
    "sum_double(5, 5)"
   ]
  }
 ],
 "metadata": {
  "language_info": {
   "name": "python"
  },
  "orig_nbformat": 4
 },
 "nbformat": 4,
 "nbformat_minor": 2
}
