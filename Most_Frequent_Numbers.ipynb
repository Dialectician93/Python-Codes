{
 "cells": [
  {
   "cell_type": "code",
   "execution_count": 1,
   "metadata": {},
   "outputs": [
    {
     "data": {
      "text/plain": [
       "2"
      ]
     },
     "execution_count": 1,
     "metadata": {},
     "output_type": "execute_result"
    }
   ],
   "source": [
    "def equal(a,b,c) :\n",
    "    num = [a, b, c]\n",
    "    sonuc = num.count(max(num, key = num.count))\n",
    "    if sonuc > 1 :\n",
    "        return sonuc\n",
    "    else:\n",
    "        return 0\n",
    "equal(1,4,4)"
   ]
  },
  {
   "cell_type": "code",
   "execution_count": null,
   "metadata": {},
   "outputs": [],
   "source": [
    "numbers = [1, 3, 7, 4, 3, 0, 3, 6, 3]\n",
    "most_freq_numb=max(numbers, key=numbers.count)\n",
    "repetition= numbers.count(max(numbers, key=numbers.count))\n",
    "print(\"The most frequent number is {} and it was {} times repeated.\".format(most_freq_numb, repetition))"
   ]
  },
  {
   "cell_type": "code",
   "execution_count": null,
   "metadata": {},
   "outputs": [],
   "source": [
    "def equal(*arg) :\n",
    "    num = list(arg)\n",
    "    sonuc = num.count(max(num, key = num.count))\n",
    "    if sonuc > 1 :\n",
    "        return sonuc\n",
    "    else:\n",
    "        return 0\n",
    "equal(1,2,3,3,3,3,4,4,4)"
   ]
  }
 ],
 "metadata": {
  "kernelspec": {
   "display_name": "Python 3.10.2 64-bit",
   "language": "python",
   "name": "python3"
  },
  "language_info": {
   "codemirror_mode": {
    "name": "ipython",
    "version": 3
   },
   "file_extension": ".py",
   "mimetype": "text/x-python",
   "name": "python",
   "nbconvert_exporter": "python",
   "pygments_lexer": "ipython3",
   "version": "3.10.2"
  },
  "orig_nbformat": 4,
  "vscode": {
   "interpreter": {
    "hash": "67e0cbc25fa4f5baaacba1240f401bc655b640f8e15cfc935dfee2e63491bdf4"
   }
  }
 },
 "nbformat": 4,
 "nbformat_minor": 2
}
