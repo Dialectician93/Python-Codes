{
 "cells": [
  {
   "cell_type": "code",
   "execution_count": null,
   "metadata": {},
   "outputs": [],
   "source": [
    "a = float(input(\"enter a number:\"))\n",
    "b = float(input(\"enter a number:\"))\n",
    "if a > b :\n",
    "    print(\"The larger number is {}\".format(a))\n",
    "elif a == b :\n",
    "    print(\"{} is equal {}\".format(a,b))\n",
    "else:\n",
    "    print(\"The larger number is {}\".format(b))"
   ]
  }
 ],
 "metadata": {
  "language_info": {
   "name": "python"
  },
  "orig_nbformat": 4
 },
 "nbformat": 4,
 "nbformat_minor": 2
}
