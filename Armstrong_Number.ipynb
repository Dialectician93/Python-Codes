{
 "cells": [
  {
   "cell_type": "code",
   "execution_count": null,
   "metadata": {},
   "outputs": [],
   "source": [
    "number = input(\"Please enter an integer number: \")\n",
    "power = len(number)\n",
    "sonuc = 0\n",
    "if number.startswith(\"-\") or \".\" in number or \",\" in number or (not number.isdigit()):\n",
    "    print(\"It is an invalid entry. Don't use non-numeric, float, or negative values!\")\n",
    "else:\n",
    "    for i in number:\n",
    "        sonuc += int(i) ** power\n",
    "    if int(number) == sonuc:\n",
    "        print(number + \" is an Armstrong number\")\n",
    "    else:\n",
    "        print(number + \" is not an Armstrong number\")"
   ]
  },
  {
   "cell_type": "code",
   "execution_count": null,
   "metadata": {},
   "outputs": [],
   "source": [
    "a = int(input(\"Enter a number: \"))\n",
    "b = len(str(a))\n",
    "c = 0\n",
    "d = a\n",
    "while d > 0:\n",
    "   digit = d % 10\n",
    "   c += digit ** b\n",
    "   d //= 10\n",
    "\n",
    "if a == c:\n",
    "   print(a,\"is an Armstrong number\")\n",
    "else:\n",
    "   print(a,\"is not an Armstrong number\")"
   ]
  }
 ],
 "metadata": {
  "language_info": {
   "name": "python"
  },
  "orig_nbformat": 4
 },
 "nbformat": 4,
 "nbformat_minor": 2
}
