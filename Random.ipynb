{
 "cells": [
  {
   "cell_type": "code",
   "execution_count": 1,
   "metadata": {},
   "outputs": [
    {
     "name": "stdout",
     "output_type": "stream",
     "text": [
      "{'blue', 'pink', 'red'}\n"
     ]
    }
   ],
   "source": [
    "colors = 'red', 'blue', 'pink', 'red'\n",
    "set2 = set(colors)\n",
    "print(set2)"
   ]
  },
  {
   "cell_type": "code",
   "execution_count": 2,
   "metadata": {},
   "outputs": [
    {
     "name": "stdout",
     "output_type": "stream",
     "text": [
      "['a', 'b', 'c', 'd', 'e', 'f', 'g', 'h', 'ı', 'j', 'k', 'l', 'm', 'n', 'o', 'p', 'q', 'r', 's', 't', 'u', 'v', 'y', 'z']\n",
      "{'l', 'c', 'b', 'm', 'n', 'e', 'g', 'h', 'v', 'u', 'k', 'r', 'f', 'd', 't', 'ı', 'p', 'j', 'o', 's', 'y', 'z', 'q', 'a'}\n"
     ]
    }
   ],
   "source": [
    "letter = \"a b c d e f g h ı j k l m n o p q r s t u v y z\".split()\n",
    "print(letter)\n",
    "print(set(letter))"
   ]
  },
  {
   "cell_type": "code",
   "execution_count": 3,
   "metadata": {},
   "outputs": [
    {
     "name": "stdout",
     "output_type": "stream",
     "text": [
      "{'1', '0', '2', '/'}\n",
      "{'02/21/2022'}\n"
     ]
    }
   ],
   "source": [
    "date1 = set(\"02/21/2022\")\n",
    "date2 = {\"02/21/2022\"}\n",
    "print(date1)\n",
    "print(date2)"
   ]
  },
  {
   "cell_type": "code",
   "execution_count": 4,
   "metadata": {},
   "outputs": [
    {
     "name": "stdout",
     "output_type": "stream",
     "text": [
      "{'h', 's', 'a'}\n",
      "{'l', 'e'}\n",
      "{'l', 't', 'n', 'e', 'g', 'o', 'h', 'w', 'i', 's', 'a'}\n",
      "{'t', 'n', 'o', 'g', 'w', 'i'}\n"
     ]
    }
   ],
   "source": [
    "usa = set(\"washington\")\n",
    "nz = set(\"wellington\")\n",
    "print(usa - nz)\n",
    "print(nz - usa)\n",
    "print(usa | nz)\n",
    "print(usa & nz)"
   ]
  },
  {
   "cell_type": "code",
   "execution_count": 5,
   "metadata": {},
   "outputs": [
    {
     "name": "stdout",
     "output_type": "stream",
     "text": [
      "We are the same\n"
     ]
    }
   ],
   "source": [
    "kelimeler = [\"alideliveli\", \"ahmet\", \"sel\"]\n",
    "uzunluk = map(len, kelimeler)\n",
    "list(uzunluk)\n"
   ]
  },
  {
   "cell_type": "code",
   "execution_count": 6,
   "metadata": {},
   "outputs": [
    {
     "name": "stdout",
     "output_type": "stream",
     "text": [
      "[]\n",
      "0\n"
     ]
    }
   ],
   "source": [
    "a={}\n",
    "a['a']=1\n",
    "a['b']=[2,3,4]\n",
    "print(a)"
   ]
  },
  {
   "cell_type": "code",
   "execution_count": 8,
   "metadata": {},
   "outputs": [
    {
     "name": "stdout",
     "output_type": "stream",
     "text": [
      "[154]\n"
     ]
    }
   ],
   "source": [
    "x = int(input())\n",
    "liste1 = []\n",
    "liste1.append(x)\n",
    "print(liste1)"
   ]
  },
  {
   "cell_type": "code",
   "execution_count": 9,
   "metadata": {},
   "outputs": [
    {
     "data": {
      "text/plain": [
       "{0: 1,\n",
       " 1: 8,\n",
       " 2: 8,\n",
       " 3: 3,\n",
       " 4: 4,\n",
       " 5: 6,\n",
       " 6: 8,\n",
       " 7: 6,\n",
       " 8: 3,\n",
       " 9: 9,\n",
       " 10: 0,\n",
       " 11: 5,\n",
       " 12: 5,\n",
       " 13: 8,\n",
       " 14: 8,\n",
       " 15: 2,\n",
       " 16: 7,\n",
       " 17: 8,\n",
       " 18: 0,\n",
       " 19: 3,\n",
       " 20: 4}"
      ]
     },
     "execution_count": 9,
     "metadata": {},
     "output_type": "execute_result"
    }
   ],
   "source": [
    "nums = (1, 8, 8, 3, 4, 6, 8, 6, 3, 9, 0, 5, 5, 8, 8, 2, 7, 8, 0, 3, 4)\n",
    "dict(enumerate(nums))"
   ]
  },
  {
   "cell_type": "code",
   "execution_count": 84,
   "metadata": {},
   "outputs": [
    {
     "name": "stdout",
     "output_type": "stream",
     "text": [
      "361\n",
      "[1, 3, 5, 7, 9, 11, 13, 15, 17, 19]\n",
      "[1, 2, 3, 4, 5, 6, 7, 8, 9, 10, 11, 12, 13, 14, 15, 16, 17, 18, 19, 20]\n"
     ]
    }
   ],
   "source": [
    "sayı = list(range(1,21))\n",
    "yeni_list = []\n",
    "for i in sayı:\n",
    "    if i %2 != 0:\n",
    "        yeni_list.append(i)\n",
    "        for j in yeni_list:\n",
    "            \n",
    "print(yeni_list)\n",
    "print(sayı)\n",
    "       "
   ]
  },
  {
   "cell_type": "code",
   "execution_count": 70,
   "metadata": {},
   "outputs": [
    {
     "name": "stdout",
     "output_type": "stream",
     "text": [
      "ylaruswac\n"
     ]
    }
   ],
   "source": [
    "\n",
    "      "
   ]
  },
  {
   "cell_type": "code",
   "execution_count": null,
   "metadata": {},
   "outputs": [],
   "source": [
    "def josephus_survivor(x, y):\n",
    "    listem1 = list(range(x))\n",
    "    "
   ]
  },
  {
   "cell_type": "code",
   "execution_count": 1,
   "metadata": {},
   "outputs": [
    {
     "name": "stdout",
     "output_type": "stream",
     "text": [
      "3   9\n"
     ]
    }
   ],
   "source": [
    "def function1(var1=5, var2=7):\n",
    "    var2=9\n",
    "    var1=3\n",
    "    print (var1, \" \", var2)\n",
    "function1(10,12)"
   ]
  },
  {
   "cell_type": "code",
   "execution_count": 5,
   "metadata": {},
   "outputs": [
    {
     "name": "stdout",
     "output_type": "stream",
     "text": [
      "x is 50\n",
      "Changed local x to 2\n",
      "x is now 50\n"
     ]
    }
   ],
   "source": [
    "x = 50\n",
    "def func(x):\n",
    "    print('x is', x)\n",
    "    x = 2\n",
    "    print('Changed local x to', x)\n",
    "func(x)\n",
    "print('x is now', x)"
   ]
  },
  {
   "cell_type": "code",
   "execution_count": 1,
   "metadata": {},
   "outputs": [
    {
     "name": "stdout",
     "output_type": "stream",
     "text": [
      "Thanks for using our mini divison calculator! Come again!\n"
     ]
    }
   ],
   "source": [
    "while True:\n",
    "    \n",
    "    try:\n",
    "        no_one = int(input(\"The first number please : \"))\n",
    "        no_two = int(input(\"The second number please : \"))        \n",
    "        division = no_one / no_two  # normal part of the program\n",
    "    except ZeroDivisionError:\n",
    "        print(\"You can't divide by zero! Try again.\")  # executes when division by zero\n",
    "    else:\n",
    "        print(\"The result of the division is : \", division)  # executes if there is no exception\n",
    "    finally:\n",
    "        print(\"Thanks for using our mini divison calculator! Come again!\")\n",
    "        break  # exits the while loop"
   ]
  },
  {
   "cell_type": "code",
   "execution_count": null,
   "metadata": {},
   "outputs": [],
   "source": []
  },
  {
   "cell_type": "code",
   "execution_count": null,
   "metadata": {},
   "outputs": [],
   "source": []
  },
  {
   "cell_type": "code",
   "execution_count": null,
   "metadata": {},
   "outputs": [],
   "source": []
  },
  {
   "cell_type": "code",
   "execution_count": null,
   "metadata": {},
   "outputs": [],
   "source": []
  }
 ],
 "metadata": {
  "interpreter": {
   "hash": "0dda09140a1fd88ea879080486bbeb4c81cc74626dc51b563162033e734c6912"
  },
  "kernelspec": {
   "display_name": "Python 3.10.2 64-bit",
   "language": "python",
   "name": "python3"
  },
  "language_info": {
   "codemirror_mode": {
    "name": "ipython",
    "version": 3
   },
   "file_extension": ".py",
   "mimetype": "text/x-python",
   "name": "python",
   "nbconvert_exporter": "python",
   "pygments_lexer": "ipython3",
   "version": "3.10.2"
  },
  "orig_nbformat": 4
 },
 "nbformat": 4,
 "nbformat_minor": 2
}
