{
 "cells": [
  {
   "cell_type": "code",
   "execution_count": 1,
   "metadata": {},
   "outputs": [
    {
     "name": "stdout",
     "output_type": "stream",
     "text": [
      "100\n",
      "100\n",
      "BU BİR MUTLAK DEĞER ÇALIŞMASIDIR!!!\n"
     ]
    }
   ],
   "source": [
    "def absolute_value(a):\n",
    "    \"\"\"BU BİR MUTLAK DEĞER ÇALIŞMASIDIR!!!\"\"\"\n",
    "    if a < 0 :\n",
    "        return -a\n",
    "    else:\n",
    "        return a\n",
    "print(absolute_value(100))\n",
    "print(absolute_value(-100))\n",
    "print(absolute_value.__doc__)"
   ]
  },
  {
   "cell_type": "markdown",
   "metadata": {},
   "source": []
  }
 ],
 "metadata": {
  "kernelspec": {
   "display_name": "Python 3.10.2 64-bit",
   "language": "python",
   "name": "python3"
  },
  "language_info": {
   "codemirror_mode": {
    "name": "ipython",
    "version": 3
   },
   "file_extension": ".py",
   "mimetype": "text/x-python",
   "name": "python",
   "nbconvert_exporter": "python",
   "pygments_lexer": "ipython3",
   "version": "3.10.2"
  },
  "orig_nbformat": 4,
  "vscode": {
   "interpreter": {
    "hash": "67e0cbc25fa4f5baaacba1240f401bc655b640f8e15cfc935dfee2e63491bdf4"
   }
  }
 },
 "nbformat": 4,
 "nbformat_minor": 2
}
