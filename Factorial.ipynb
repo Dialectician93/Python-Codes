{
 "cells": [
  {
   "cell_type": "code",
   "execution_count": null,
   "metadata": {},
   "outputs": [],
   "source": [
    "def my_factorial(n):\n",
    "    sonuç = 1\n",
    "    for i in range(1, n+1):\n",
    "        sonuç*=i\n",
    "    if n == 0 or n == 1 :\n",
    "        return 1\n",
    "    else:\n",
    "        return sonuç\n",
    "\n",
    "\n",
    "my_factorial(4)"
   ]
  },
  {
   "cell_type": "code",
   "execution_count": null,
   "metadata": {},
   "outputs": [],
   "source": [
    "def my_facto(n):\n",
    "    if n == 1 or n == 0 :\n",
    "        return 1 \n",
    "    else:\n",
    "        return n*(my_facto(n-1))\n",
    "my_facto(5)"
   ]
  }
 ],
 "metadata": {
  "language_info": {
   "name": "python"
  },
  "orig_nbformat": 4
 },
 "nbformat": 4,
 "nbformat_minor": 2
}
