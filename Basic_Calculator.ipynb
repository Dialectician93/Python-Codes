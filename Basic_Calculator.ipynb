{
 "cells": [
  {
   "cell_type": "code",
   "execution_count": null,
   "metadata": {},
   "outputs": [],
   "source": [
    "def calc(a, b, c):\n",
    "    if c == \"+\":\n",
    "        print(a+b)\n",
    "    elif c == \"-\":\n",
    "        print(a-b)\n",
    "    elif c == \"/\":\n",
    "        print(a/b)\n",
    "    elif c == \"*\":\n",
    "        print(a*b)\n",
    "    elif c == \"**\":\n",
    "        print(a**b)\n",
    "    elif c == \"//\":\n",
    "        print(a//b)\n",
    "    elif c == \"%\":\n",
    "        print(a%b)\n",
    "    else:\n",
    "        print(\"YOU ENTERED WRONG!\")\n",
    "calc(12, 7, \"%\")"
   ]
  }
 ],
 "metadata": {
  "language_info": {
   "name": "python"
  },
  "orig_nbformat": 4
 },
 "nbformat": 4,
 "nbformat_minor": 2
}
