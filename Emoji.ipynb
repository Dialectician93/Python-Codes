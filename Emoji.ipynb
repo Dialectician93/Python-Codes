{
 "cells": [
  {
   "cell_type": "code",
   "execution_count": null,
   "metadata": {},
   "outputs": [],
   "source": [
    "def functioner(emoji=None):\n",
    "    return lambda message : print(message, emoji)\n",
    "gulen_yuz=functioner(\":)\")\n",
    "uzgun_yuz=functioner(\":(\")\n",
    "neutral_yuz=functioner(\":|\")\n",
    "gulen_yuz(\"ali\")\n",
    "uzgun_yuz(\"ali\")\n",
    "neutral_yuz(\"ali\")"
   ]
  }
 ],
 "metadata": {
  "language_info": {
   "name": "python"
  },
  "orig_nbformat": 4
 },
 "nbformat": 4,
 "nbformat_minor": 2
}
