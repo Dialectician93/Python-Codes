{
 "cells": [
  {
   "cell_type": "code",
   "execution_count": null,
   "metadata": {},
   "outputs": [],
   "source": [
    "a = 0\n",
    "b = 0\n",
    "c = 1\n",
    "sayı = 0\n",
    "liste = []\n",
    "while len(liste) < 10:\n",
    "        a = b\n",
    "        b = c\n",
    "        c = sayı\n",
    "        sayı = b + c\n",
    "        liste.append(sayı)\n",
    "print(liste)"
   ]
  }
 ],
 "metadata": {
  "language_info": {
   "name": "python"
  },
  "orig_nbformat": 4
 },
 "nbformat": 4,
 "nbformat_minor": 2
}
