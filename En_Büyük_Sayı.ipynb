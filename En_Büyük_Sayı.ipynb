{
 "cells": [
  {
   "cell_type": "code",
   "execution_count": 7,
   "metadata": {},
   "outputs": [
    {
     "name": "stdout",
     "output_type": "stream",
     "text": [
      "a,b ve c eşittir.\n"
     ]
    }
   ],
   "source": [
    "a = int(input(\"Bir sayı girin:\"))\n",
    "b = int(input(\"Bir sayı girin:\"))\n",
    "c = int(input(\"Bir sayı girin:\"))\n",
    "if a > b and a > c :\n",
    "    print(\"En büyük sayı: a\")\n",
    "elif b > a and b > c :\n",
    "    print(\"En büyük sayı : b\")\n",
    "elif c > a and c > b :\n",
    "    print(\"En büyük sayı: c\")\n",
    "elif a == c > b:\n",
    "    print(\"En büyük sayılar a ve c dir.\")\n",
    "elif b == c > a:\n",
    "    print(\"En büyük sayılar b ve c dir.\")\n",
    "elif a == b > c :\n",
    "    print(\"En büyük sayılar a ve b dir.\")\n",
    "else:\n",
    "    print(\"a,b ve c eşittir.\")"
   ]
  }
 ],
 "metadata": {
  "kernelspec": {
   "display_name": "Python 3.10.2 64-bit",
   "language": "python",
   "name": "python3"
  },
  "language_info": {
   "codemirror_mode": {
    "name": "ipython",
    "version": 3
   },
   "file_extension": ".py",
   "mimetype": "text/x-python",
   "name": "python",
   "nbconvert_exporter": "python",
   "pygments_lexer": "ipython3",
   "version": "3.10.2"
  },
  "orig_nbformat": 4,
  "vscode": {
   "interpreter": {
    "hash": "67e0cbc25fa4f5baaacba1240f401bc655b640f8e15cfc935dfee2e63491bdf4"
   }
  }
 },
 "nbformat": 4,
 "nbformat_minor": 2
}
