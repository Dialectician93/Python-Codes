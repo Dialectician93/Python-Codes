{
 "cells": [
  {
   "cell_type": "code",
   "execution_count": null,
   "metadata": {},
   "outputs": [],
   "source": [
    "a = int(input(\"Bir sayı giriniz:\"))\n",
    "if a > 1:\n",
    "    for i in range(2,a):   \n",
    "        if a % i == 0:\n",
    "            print(\"{} bir asal sayı değildir.\".format(a))\n",
    "            break\n",
    "    else:\n",
    "        print(\"{} bir asal sayıdır.\".format(a))\n",
    "else:\n",
    "    print(\"{} bir asal sayı değildir.\".format(a))"
   ]
  },
  {
   "cell_type": "code",
   "execution_count": null,
   "metadata": {},
   "outputs": [],
   "source": [
    "list1 = [2, 3, 5, 7]\n",
    "for i in range(10, 101):\n",
    "    if i%2!=0 and i%3!=0 and i%5!=0 and i%7!=0:\n",
    "        list1.append(i)\n",
    "print(list1)"
   ]
  }
 ],
 "metadata": {
  "kernelspec": {
   "display_name": "Python 3.10.2 64-bit",
   "language": "python",
   "name": "python3"
  },
  "language_info": {
   "name": "python",
   "version": "3.10.2"
  },
  "orig_nbformat": 4,
  "vscode": {
   "interpreter": {
    "hash": "67e0cbc25fa4f5baaacba1240f401bc655b640f8e15cfc935dfee2e63491bdf4"
   }
  }
 },
 "nbformat": 4,
 "nbformat_minor": 2
}
