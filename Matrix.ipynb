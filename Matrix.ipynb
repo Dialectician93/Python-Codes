{
 "cells": [
  {
   "cell_type": "code",
   "execution_count": null,
   "metadata": {},
   "outputs": [],
   "source": [
    "input_str = input(\"Please enter the dimensions of the multi dimensional array (x, y): \")\n",
    "dimensions = [int(x) for x in input_str.split(',')]\n",
    "rowNum = dimensions[0]\n",
    "colNum = dimensions[1]\n",
    "multilist = [[col for col in range(colNum)] for row in range(rowNum)]\n",
    "for row in range(rowNum):\n",
    "    for col in range(colNum):\n",
    "           multilist[row][col]= row * col\n",
    "print(multilist)"
   ]
  }
 ],
 "metadata": {
  "kernelspec": {
   "display_name": "Python 3.10.2 64-bit",
   "language": "python",
   "name": "python3"
  },
  "language_info": {
   "name": "python",
   "version": "3.10.2"
  },
  "orig_nbformat": 4,
  "vscode": {
   "interpreter": {
    "hash": "67e0cbc25fa4f5baaacba1240f401bc655b640f8e15cfc935dfee2e63491bdf4"
   }
  }
 },
 "nbformat": 4,
 "nbformat_minor": 2
}
