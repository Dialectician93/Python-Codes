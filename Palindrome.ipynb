{
 "cells": [
  {
   "cell_type": "code",
   "execution_count": 1,
   "metadata": {},
   "outputs": [
    {
     "name": "stdout",
     "output_type": "stream",
     "text": [
      "EY EDİP ADANADA PİDE YE is a palindrome\n"
     ]
    }
   ],
   "source": [
    "our_input = \"EY EDİP ADANADA PİDE YE\"\n",
    "word = \"\"\n",
    "for i in our_input.casefold():\n",
    "  if i.isalnum():\n",
    "    word += i\n",
    "if word == word[::-1]:\n",
    "  print(f\"{our_input} is a palindrome\")\n",
    "else:\n",
    "  print(f\"{our_input} is not a palindrome\")"
   ]
  }
 ],
 "metadata": {
  "kernelspec": {
   "display_name": "Python 3.10.2 64-bit",
   "language": "python",
   "name": "python3"
  },
  "language_info": {
   "codemirror_mode": {
    "name": "ipython",
    "version": 3
   },
   "file_extension": ".py",
   "mimetype": "text/x-python",
   "name": "python",
   "nbconvert_exporter": "python",
   "pygments_lexer": "ipython3",
   "version": "3.10.2"
  },
  "orig_nbformat": 4,
  "vscode": {
   "interpreter": {
    "hash": "67e0cbc25fa4f5baaacba1240f401bc655b640f8e15cfc935dfee2e63491bdf4"
   }
  }
 },
 "nbformat": 4,
 "nbformat_minor": 2
}
