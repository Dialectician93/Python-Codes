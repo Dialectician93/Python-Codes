{
 "cells": [
  {
   "cell_type": "code",
   "execution_count": null,
   "metadata": {},
   "outputs": [],
   "source": [
    "def missing_char(word, n):\n",
    "    \n",
    "    list_word = []\n",
    "    for i in word:\n",
    "        list_word.append(i)\n",
    "    \n",
    "    if n < len(list_word):\n",
    "            \n",
    "        return \"\".join(list_word[0:n] + list_word[(n + 1) : ])\n",
    "    else:\n",
    "        return \"Index Out of Range\""
   ]
  }
 ],
 "metadata": {
  "language_info": {
   "name": "python"
  },
  "orig_nbformat": 4
 },
 "nbformat": 4,
 "nbformat_minor": 2
}
