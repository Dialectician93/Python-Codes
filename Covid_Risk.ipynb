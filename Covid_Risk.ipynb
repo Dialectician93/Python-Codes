{
 "cells": [
  {
   "cell_type": "code",
   "execution_count": null,
   "metadata": {},
   "outputs": [],
   "source": [
    "age = (input(\"Are you a cigarette addict older than 75 years old?(Yes or No):\")).title()\n",
    "chronic = (input(\"Do you have a severe chronic disease?(Yes or No):\")).title()\n",
    "immune = (input(\"Is your immune system too weak?(Yes or No):\")).title()\n",
    "if age and chronic and immune == \"Yes\" :\n",
    "    print(\"heavyrisk\")\n",
    "else:\n",
    "    print(\"lightrisk\")"
   ]
  }
 ],
 "metadata": {
  "language_info": {
   "name": "python"
  },
  "orig_nbformat": 4
 },
 "nbformat": 4,
 "nbformat_minor": 2
}
