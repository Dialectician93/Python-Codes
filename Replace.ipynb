{
 "cells": [
  {
   "cell_type": "code",
   "execution_count": null,
   "metadata": {},
   "outputs": [],
   "source": [
    "name=(\"restart\")\n",
    "list1=list(name)\n",
    "list1.pop(5)\n",
    "list1.insert(5, \"$\")\n",
    "\"\".join(list1)"
   ]
  }
 ],
 "metadata": {
  "language_info": {
   "name": "python"
  },
  "orig_nbformat": 4
 },
 "nbformat": 4,
 "nbformat_minor": 2
}
