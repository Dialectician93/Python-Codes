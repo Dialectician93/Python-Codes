{
 "cells": [
  {
   "cell_type": "code",
   "execution_count": null,
   "metadata": {},
   "outputs": [],
   "source": [
    "(lambda x: x**2)(2)"
   ]
  },
  {
   "cell_type": "code",
   "execution_count": null,
   "metadata": {},
   "outputs": [],
   "source": [
    "(lambda x: \"odd\" if x % 2 != 0 else \"even\")(4)"
   ]
  },
  {
   "cell_type": "code",
   "execution_count": null,
   "metadata": {},
   "outputs": [],
   "source": [
    "(lambda x: \"odd\" if x % 2 != 0 else \"even\")(3)"
   ]
  },
  {
   "cell_type": "code",
   "execution_count": null,
   "metadata": {},
   "outputs": [],
   "source": [
    "(lambda x: x[::-1])(\"1,2,3,4,5,6\")"
   ]
  },
  {
   "cell_type": "code",
   "execution_count": null,
   "metadata": {},
   "outputs": [],
   "source": [
    "sayılar = [1,2,3,4]\n",
    "for i in sayılar:\n",
    "    print(i, \":\",(lambda x: \"odd\" if x % 2 != 0 else \"even\")(i))"
   ]
  },
  {
   "cell_type": "code",
   "execution_count": null,
   "metadata": {},
   "outputs": [],
   "source": [
    "average = lambda x, y: x+y\n",
    "print(average(3,5))"
   ]
  },
  {
   "cell_type": "code",
   "execution_count": null,
   "metadata": {},
   "outputs": [],
   "source": [
    "fonks = lambda x: x**2\n",
    "iterable = [1,2,3,4,5]\n",
    "sonuç = map(fonks, iterable)\n",
    "print(*sonuç)\n",
    "sonuç2 = map(lambda x: x**2,[1,2,3,4,5])\n",
    "print(*sonuç2)"
   ]
  },
  {
   "cell_type": "code",
   "execution_count": null,
   "metadata": {},
   "outputs": [],
   "source": [
    "nums1 =[9,6,7,4]\n",
    "nums2 =[3,6,5,8]\n",
    "a = map(lambda x,y: (x+y)/2, nums1, nums2)\n",
    "print(list(a))"
   ]
  },
  {
   "cell_type": "code",
   "execution_count": null,
   "metadata": {},
   "outputs": [],
   "source": [
    "words1 =[\"you \",\"much \",\"hard \"]\n",
    "words2 =[\"i \",\"you \",\"he \"]\n",
    "words3 =[\"love \",\"ate \",\"works \"]\n",
    "ww= map(lambda x,y,z: x + y + z, words2,words3,words1)\n",
    "print(list(ww))"
   ]
  },
  {
   "cell_type": "code",
   "execution_count": null,
   "metadata": {},
   "outputs": [],
   "source": [
    "words = [\"apple\",\"swim\",\"clock\",\"me\",\"kiwi\",\"banana\"]\n",
    "for i in filter(lambda x: len(x)<5 ,words):\n",
    "    print(i)"
   ]
  },
  {
   "cell_type": "code",
   "execution_count": null,
   "metadata": {},
   "outputs": [],
   "source": []
  },
  {
   "cell_type": "code",
   "execution_count": null,
   "metadata": {},
   "outputs": [],
   "source": []
  },
  {
   "cell_type": "code",
   "execution_count": null,
   "metadata": {},
   "outputs": [],
   "source": []
  },
  {
   "cell_type": "code",
   "execution_count": null,
   "metadata": {},
   "outputs": [],
   "source": []
  }
 ],
 "metadata": {
  "language_info": {
   "name": "python"
  },
  "orig_nbformat": 4
 },
 "nbformat": 4,
 "nbformat_minor": 2
}
