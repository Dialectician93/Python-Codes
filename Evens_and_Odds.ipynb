{
 "cells": [
  {
   "cell_type": "code",
   "execution_count": null,
   "metadata": {},
   "outputs": [],
   "source": [
    "def slicer(*num):                                    #EVENS AND ODDS#\n",
    "    evens = []\n",
    "    odds = []\n",
    "    for i in num :\n",
    "        if i% 2 == 0 :\n",
    "            evens.append(i)\n",
    "        else:\n",
    "            odds.append(i)\n",
    "    print(\"Even list :\", evens)\n",
    "    print(\"Odd list :\", odds)"
   ]
  },
  {
   "cell_type": "code",
   "execution_count": null,
   "metadata": {},
   "outputs": [],
   "source": [
    "ciftler = []\n",
    "tekler = []\n",
    "a = 0\n",
    "k=[]\n",
    "while a <= 10:\n",
    "    sayi=int(input(\"Lütfen bir sayı giriniz:\"))\n",
    "    a += 1\n",
    "    k.append(sayi)\n",
    "for i in k:\n",
    "    if i % 2 == 0 :\n",
    "        ciftler.append(i)\n",
    "    else:\n",
    "        tekler.append(i)\n",
    "k.sort()\n",
    "print(k)\n",
    "print(ciftler)\n",
    "print(tekler)"
   ]
  },
  {
   "cell_type": "code",
   "execution_count": null,
   "metadata": {},
   "outputs": [],
   "source": [
    "evens=[]\n",
    "odds=[]\n",
    "for i in range(10):\n",
    "    if i % 2 == 0:\n",
    "        evens.append(i)\n",
    "    else:\n",
    "        odds.append(i)\n",
    "print(\"evens:\",evens)\n",
    "print(\"odds:\", odds)"
   ]
  }
 ],
 "metadata": {
  "language_info": {
   "name": "python"
  },
  "orig_nbformat": 4
 },
 "nbformat": 4,
 "nbformat_minor": 2
}
