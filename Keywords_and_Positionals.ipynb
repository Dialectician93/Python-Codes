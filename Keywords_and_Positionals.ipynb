{
 "cells": [
  {
   "cell_type": "code",
   "execution_count": null,
   "metadata": {},
   "outputs": [],
   "source": [
    "def bifonks(x = \"ali\", y = 22):                 #KEYWORD AND POSİTİONAL#\n",
    "    print(x, y, \"yaşındadır.\")\n",
    "bifonks()"
   ]
  }
 ],
 "metadata": {
  "language_info": {
   "name": "python"
  },
  "orig_nbformat": 4
 },
 "nbformat": 4,
 "nbformat_minor": 2
}
