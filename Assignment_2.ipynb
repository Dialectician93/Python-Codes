{
 "cells": [
  {
   "cell_type": "code",
   "execution_count": null,
   "metadata": {},
   "outputs": [],
   "source": [
    "sentence = \"hippo runs to us !\"\n",
    "\n",
    "letter_dict={}\n",
    "for i in sentence.lower():\n",
    "    if not i in letter_dict:\n",
    "        letter_dict[i] = 1\n",
    "    else:\n",
    "        letter_dict[i]+=1\n",
    "print(letter_dict)"
   ]
  }
 ],
 "metadata": {
  "language_info": {
   "name": "python"
  },
  "orig_nbformat": 4
 },
 "nbformat": 4,
 "nbformat_minor": 2
}
